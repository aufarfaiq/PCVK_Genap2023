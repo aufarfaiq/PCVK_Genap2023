{
  "nbformat": 4,
  "nbformat_minor": 0,
  "metadata": {
    "colab": {
      "provenance": [],
      "authorship_tag": "ABX9TyNQ1SYqbh9KZ188LvgYaNFM",
      "include_colab_link": true
    },
    "kernelspec": {
      "name": "python3",
      "display_name": "Python 3"
    },
    "language_info": {
      "name": "python"
    }
  },
  "cells": [
    {
      "cell_type": "markdown",
      "metadata": {
        "id": "view-in-github",
        "colab_type": "text"
      },
      "source": [
        "<a href=\"https://colab.research.google.com/github/aufarfaiq/PCVK_Genap2023/blob/main/PC_4.ipynb\" target=\"_parent\"><img src=\"https://colab.research.google.com/assets/colab-badge.svg\" alt=\"Open In Colab\"/></a>"
      ]
    },
    {
      "cell_type": "code",
      "execution_count": 2,
      "metadata": {
        "colab": {
          "base_uri": "https://localhost:8080/"
        },
        "id": "B7n_bBq6helt",
        "outputId": "ac4c64fa-2101-4fdd-d00c-2e92c92d1cfe"
      },
      "outputs": [
        {
          "output_type": "stream",
          "name": "stdout",
          "text": [
            "Mounted at /content/drive\n"
          ]
        }
      ],
      "source": [
        "from google.colab import drive\n",
        "\n",
        "drive.mount('/content/drive')"
      ]
    },
    {
      "cell_type": "code",
      "source": [
        "import cv2 as cv\n",
        "from google.colab.patches import cv2_imshow\n",
        "from skimage import io\n",
        "import matplotlib.pyplot as plt\n",
        "import numpy as np\n",
        "import math\n",
        "import os\n",
        "import glob"
      ],
      "metadata": {
        "id": "ONr1TajDiYhQ"
      },
      "execution_count": null,
      "outputs": []
    },
    {
      "cell_type": "code",
      "source": [
        "\n",
        "img = cv.imread('/content/drive/MyDrive/Pengolahan Citra/Yeji.jpg')\n",
        "height, width, depth = np.shape(img)\n",
        "names = np.arange(256)\n",
        "\n",
        "blue = [0]*256\n",
        "green = [0]*256\n",
        "red = [0]*256\n",
        "\n",
        "for y in range(0,height):\n",
        "  for x in range(0,width):\n",
        "    blue[img[y][x][0]] += 1\n",
        "    green[img[y][x][1]] += 1\n",
        "    red[img[y][x][2]] += 1\n",
        "\n",
        "names = np.arange(256)\n",
        "fig, axs = plt.subplots(1, 3, figsize=[20,5], sharex=True, sharey=True)\n",
        "fig.suptitle('Histogram RGB plot')\n",
        "fig.text(0.05, 0.5, 'Jumlah Kemunculan', va='center', rotation='vertical')\n",
        "fig.text(0.5, 0.04, 'Intensitas Warna', ha='center')\n",
        "axs[0].bar(names, red, color='red')\n",
        "axs[1].bar(names, green, color='green')\n",
        "axs[2].bar(names, blue, color='blue')"
      ],
      "metadata": {
        "id": "9K-dGnMdibtJ"
      },
      "execution_count": null,
      "outputs": []
    },
    {
      "cell_type": "code",
      "source": [
        "img = cv.imread('/content/drive/MyDrive/Pengolahan Citra/Yeji.jpg')\n",
        "\n",
        "colors = ('b','g','r')\n",
        "channel_ids = (0, 1, 2)\n",
        "\n",
        "for channel_id, c in zip(channel_ids, colors):\n",
        "  histogram, bin_edges = np.histogram(\n",
        "      img[:, :, channel_id], bins=256, range =(0,256)\n",
        "  )\n",
        "  plt.xlim([0,256])\n",
        "  plt.plot(bin_edges[0:-1], histogram, color=c)\n",
        "\n",
        "  plt.xlabel(\"Intensitas Warna\")\n",
        "  plt.ylabel(\"Jumlah kemunculan\")\n",
        "  \n",
        "  plt.show()"
      ],
      "metadata": {
        "id": "ZRKChRCOiyyV"
      },
      "execution_count": null,
      "outputs": []
    },
    {
      "cell_type": "code",
      "source": [
        "img = cv.imread('/content/drive/MyDrive/Pengolahan Citra/Yeji.jpg')\n",
        "def histog(img):\n",
        "  height, width, depth = np.shape(img) \n",
        "  ax = np.zeros((3,256)) \n",
        "  for y in range(0,height) : \n",
        "    for x in range(0,width) :\n",
        "      ax[0][img[y][x][0]] += 1 \n",
        "      ax[1][img[y][x][1]] += 1\n",
        "      ax[2][img[y][x][2]] += 1 \n",
        "  return ax\n",
        "\n",
        "histo_asli = histog(img)\n",
        "\n",
        "#convert to Numpy array \n",
        "img_array = np.asarray(img)\n",
        "\n",
        "#STEP 1: Normalized cumulative histogram\n",
        "#flatten image array and calculate histogram via binning \n",
        "histogram_array = np.bincount(img_array.flatten(), minlength=256)\n",
        "\n",
        "#normalize \n",
        "num_pixels = np. sum(histogram_array) \n",
        "histogram_array = histogram_array/num_pixels\n",
        "\n",
        "#normalized cumulative histogram \n",
        "chistogram_array = np.cumsum(histogram_array)\n",
        "\n",
        "#STEP 2: Pixel mapping lookup table\n",
        "transform_map = np.floor(255 * chistogram_array). astype (np.uint8)\n",
        "\n",
        "#STEP 3: Transformation\n",
        "# flatten image array into 10 list \n",
        "img_list = list(img_array.flatten())\n",
        "\n",
        "# transform pixel values to equalize \n",
        "eq_img_list = [transform_map[p] for p in img_list]\n",
        "\n",
        "# reshape and write back into img_array \n",
        "eq_img_array = np.reshape(np.asarray(eq_img_list), img_array.shape) \n",
        "img2 = eq_img_array\n",
        "\n",
        "equal_histo = histog(img2)\n",
        "\n",
        "final_frame = cv.hconcat((img, img2)) #concatenate image\n",
        "cv2_imshow(final_frame)\n",
        "\n",
        "names = np.arange (256) \n",
        "isgrayimg = np.array_equal(blue, green, red) \n",
        "if (isgrayimg == False):\n",
        "  fig, axs = plt.subplots(2, 3, figsize=[20,5], sharex=True, sharey=True) \n",
        "  fig.suptitle('Histogram RGB plot') \n",
        "  fig.text(0.09, 0.5, 'Jumlah Kemunculan', va='center', rotation='vertical') \n",
        "  fig.text(0.5, 0.04, 'Intensitas Warna', ha='center') \n",
        "  axs[0,0].bar(names, histo_asli[2], color='red') \n",
        "  axs[0,1].bar(names, histo_asli[1], color='green') \n",
        "  axs[0,2].bar(names, histo_asli[0], color='blue') \n",
        "  axs[1,0].bar(names, equal_histo[2], color='red') \n",
        "  axs[1,1].bar(names, equal_histo[1], color='green')\n",
        "  axs[1,2].bar(names, equal_histo[0], color='blue') \n",
        "else:\n",
        "  fig, axs = plt. subplots(1, 2, figsize=[20,5], sharex=Trbe, sharey=True) \n",
        "  fig. suptitle('Histogram RGB plot') \n",
        "  fig.text(0.09, 0.5, 'Jumlah Kemunculan', va='center', rotation='vertical') \n",
        "  fig.text(0.5, 0.94, 'Intensitas Warna', ha='center') \n",
        "  axs[0,0].bar(names, histo_asli[2], color='gray') \n",
        "  axs[0,1].bar(names, equal_histo[2], color='gray')"
      ],
      "metadata": {
        "id": "26NWmb_si1a5"
      },
      "execution_count": null,
      "outputs": []
    },
    {
      "cell_type": "code",
      "source": [
        "img = cv.imread('/content/drive/MyDrive/Pengolahan Citra/Yeji.jpg')\n",
        "channels = cv.split(img)\n",
        "eq_channels = []\n",
        "for ch, color in zip(channels, ['R', 'G', 'B']):\n",
        "  eq_channels.append(cv.equalizeHist(ch))\n",
        "eq_image = cv.merge(eq_channels)\n",
        "equal_histo = histog(eq_image)\n",
        "\n",
        "final_frame = cv.hconcat((img, eq_image))\n",
        "cv2_imshow(final_frame)\n",
        "\n",
        "names = np.arange(256)\n",
        "isgraying = np.array_equal(blue, green, red)\n",
        "if (isgraying == False):\n",
        "  fig, axs = plt.subplots(2, 3, figsize=[20,5], sharex=True, sharey =True)\n",
        "  fig.suptitle('Histogram RGB plot')\n",
        "  fig.text(0.09, 0.5, 'Jumlah Kemunculan', va='center', rotation='vertical')\n",
        "  fig.text(0.5, 0.04, 'Intensitas Warna', ha='center')\n",
        "  axs[0,0].bar(names, histo_asli[2], color='red')\n",
        "  axs[0,1].bar(names, histo_asli[1], color='green')\n",
        "  axs[0,2].bar(names, histo_asli[0], color='blue')\n",
        "  axs[1,0].bar(names, histo_asli[2], color='red')\n",
        "  axs[1,1].bar(names, histo_asli[1], color='green')\n",
        "  axs[1,2].bar(names, histo_asli[0], color='blue')\n",
        "else:\n",
        "  fig, axs = plt.subplots(1, 2, figsize=[20,5], sharex=True, sharey=True)\n",
        "  fig.suptitle('Histogram RGB plot')\n",
        "  fig.text(0.09, 0.5, 'Jumlah Kemunculan', va='center', rotation='vertical')\n",
        "  fig.text(0.5, 0.04, 'Intensitas Warna', ha='center')\n",
        "  axs[0,0].bar(names, histo_asli[2], color='gray')\n",
        "  axs[0,1].bar(names, equal_histo[2], color='gray')"
      ],
      "metadata": {
        "id": "Ga9pqMRRi7HI"
      },
      "execution_count": null,
      "outputs": []
    },
    {
      "cell_type": "code",
      "source": [
        "img_1 = cv.imread('/content/drive/MyDrive/Pengolahan Citra/Yeji.jpg')\n",
        "def warnaTerdekat (r, g, b):\n",
        "  pValue = 0\n",
        "  minDistance = 255*255 + 255*255 + 255*255 + 1\n",
        "  warnaPallette = [[0, 0, 0], [255, 0, 0], [0, 255, 0], [255, 255, 0], [0, 0, 255], [255, 0, 255], [0, 255, 255], [255, 255, 255]]\n",
        "  for i in range(len(warnaPallette)):\n",
        "    rDiff = r - warnaPallette[i][0]\n",
        "    gDiff = g - warnaPallette[i][1]\n",
        "    bDiff = b - warnaPallette[i][2]\n",
        "    distance = rDiff*rDiff + gDiff*gDiff + bDiff*bDiff\n",
        "    if (distance < minDistance):\n",
        "      minDistance = distance\n",
        "      pValue = i\n",
        "  return pValue\n",
        "\n",
        "warnaPallette = [[0, 0, 0], [255, 0, 0], [0, 255, 0], [255, 255, 0], [0, 0, 255], [255, 0, 255], [0, 255, 255], [255, 255, 255]]\n",
        "img_16 = cv.cvtColor(img_1, cv.COLOR_BGR2RGB)\n",
        "img_8 = np.zeros(img_16.shape, img_16.dtype)\n",
        "\n",
        "for y in range(0, img_16.shape[0]):\n",
        "  for x in range(0, img_16.shape[1]):\n",
        "    baru = warnaTerdekat(img_16[y, x, 0], img_16[y, x, 1], img_16[y, x, 2])\n",
        "    img_8[y, x] = warnaPallette[baru]\n",
        "    \n",
        "img_16 = cv.cvtColor(img_16, cv.COLOR_BGR2RGB)\n",
        "img_8 = cv.cvtColor(img_8, cv.COLOR_BGR2RGB)\n",
        "final_frame = cv.hconcat((img_16, img_8))\n",
        "cv2_imshow(final_frame)\n",
        "cv.imwrite('/content/drive/MyDrive/Pengolahan Citra/YejiITZY.jpeg', img_8)"
      ],
      "metadata": {
        "id": "8QnW1-wSjA5w"
      },
      "execution_count": null,
      "outputs": []
    },
    {
      "cell_type": "code",
      "source": [
        "from PIL import Image\n",
        "import numpy as np\n",
        "import cv2\n",
        "import matplotlib.pyplot as plt\n",
        "\n",
        "# Load the image\n",
        "img_path = '/content/drive/MyDrive/Pengolahan Citra/Yeji.jpg'\n",
        "img = Image.open(img_path)\n",
        "\n",
        "# Convert the image to grayscale\n",
        "gray_img = img.convert('L')\n",
        "\n",
        "# Convert the grayscale image to a numpy array\n",
        "gray_arr = np.array(gray_img)\n",
        "\n",
        "# Apply dithering using Floyd and Steinberg algorithm\n",
        "height, width = gray_arr.shape\n",
        "for y in range(height):\n",
        "    for x in range(width):\n",
        "        old_value = gray_arr[y, x]\n",
        "        new_value = 0 if old_value < 128 else 255\n",
        "        gray_arr[y, x] = new_value\n",
        "        error = old_value - new_value\n",
        "\n",
        "        if x < width - 1:\n",
        "            gray_arr[y, x + 1] += error * 7 / 16\n",
        "\n",
        "        if x > 0 and y < height - 1:\n",
        "            gray_arr[y + 1, x - 1] += error * 3 / 16\n",
        "\n",
        "        if y < height - 1:\n",
        "            gray_arr[y + 1, x] += error * 5 / 16\n",
        "\n",
        "        if x < width - 1 and y < height - 1:\n",
        "            gray_arr[y + 1, x + 1] += error * 1 / 16\n",
        "\n",
        "# Convert the numpy array back to an image\n",
        "dithered_img = Image.fromarray(gray_arr)\n",
        "\n",
        "# Display the original and dithered images\n",
        "fig, axs = plt.subplots(1, 2, figsize=(10, 5))\n",
        "axs[0].imshow(img)\n",
        "axs[0].set_title('Original Image')\n",
        "axs[1].imshow(dithered_img)\n",
        "axs[1].set_title('Dithered Image')\n",
        "for ax in axs:\n",
        "    ax.axis('off')\n",
        "plt.show()\n",
        "\n",
        "# Save the dithered image\n",
        "dithered_img.save('/content/drive/MyDrive/Pengolahan Citra/Yeji_dithered.jpg')"
      ],
      "metadata": {
        "id": "xJLusTPjjFLL"
      },
      "execution_count": null,
      "outputs": []
    },
    {
      "cell_type": "code",
      "source": [],
      "metadata": {
        "id": "WRlP2xJ7jLHE"
      },
      "execution_count": null,
      "outputs": []
    }
  ]
}